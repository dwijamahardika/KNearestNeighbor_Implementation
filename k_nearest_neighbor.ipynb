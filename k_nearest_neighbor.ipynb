{
  "nbformat": 4,
  "nbformat_minor": 0,
  "metadata": {
    "colab": {
      "name": "k_nearest_neighbor.ipynb",
      "provenance": [],
      "collapsed_sections": [],
      "include_colab_link": true
    },
    "kernelspec": {
      "name": "python3",
      "display_name": "Python 3"
    },
    "language_info": {
      "name": "python"
    }
  },
  "cells": [
    {
      "cell_type": "markdown",
      "metadata": {
        "id": "view-in-github",
        "colab_type": "text"
      },
      "source": [
        "<a href=\"https://colab.research.google.com/github/dwijamahardika/KNearestNeighbor_Implementation/blob/main/k_nearest_neighbor.ipynb\" target=\"_parent\"><img src=\"https://colab.research.google.com/assets/colab-badge.svg\" alt=\"Open In Colab\"/></a>"
      ]
    },
    {
      "cell_type": "code",
      "metadata": {
        "id": "3Mr3TIDi6-GL"
      },
      "source": [
        "import pandas as pd\n",
        "import math"
      ],
      "execution_count": null,
      "outputs": []
    },
    {
      "cell_type": "code",
      "metadata": {
        "id": "xAeLk-wQ7UtX"
      },
      "source": [
        "df_train = pd.read_excel('data_train.xlsx')\n",
        "df_train = df_train.drop(['Unnamed: 0'], axis=1)\n",
        "df_test = pd.read_excel('data_test.xlsx')\n",
        "df_test = df_test.drop(['Unnamed: 0'], axis=1)"
      ],
      "execution_count": null,
      "outputs": []
    },
    {
      "cell_type": "code",
      "metadata": {
        "colab": {
          "base_uri": "https://localhost:8080/",
          "height": 195
        },
        "id": "feUKhaCZ7ujD",
        "outputId": "4ae5cad4-9739-4c87-bc23-6c8bfd38795a"
      },
      "source": [
        "df_train.head()"
      ],
      "execution_count": null,
      "outputs": [
        {
          "output_type": "execute_result",
          "data": {
            "text/html": [
              "<div>\n",
              "<style scoped>\n",
              "    .dataframe tbody tr th:only-of-type {\n",
              "        vertical-align: middle;\n",
              "    }\n",
              "\n",
              "    .dataframe tbody tr th {\n",
              "        vertical-align: top;\n",
              "    }\n",
              "\n",
              "    .dataframe thead th {\n",
              "        text-align: right;\n",
              "    }\n",
              "</style>\n",
              "<table border=\"1\" class=\"dataframe\">\n",
              "  <thead>\n",
              "    <tr style=\"text-align: right;\">\n",
              "      <th></th>\n",
              "      <th>User ID</th>\n",
              "      <th>Gender</th>\n",
              "      <th>Age</th>\n",
              "      <th>EstimatedSalary</th>\n",
              "      <th>Purchased</th>\n",
              "    </tr>\n",
              "  </thead>\n",
              "  <tbody>\n",
              "    <tr>\n",
              "      <th>0</th>\n",
              "      <td>15694829</td>\n",
              "      <td>Female</td>\n",
              "      <td>32</td>\n",
              "      <td>150000</td>\n",
              "      <td>1</td>\n",
              "    </tr>\n",
              "    <tr>\n",
              "      <th>1</th>\n",
              "      <td>15733883</td>\n",
              "      <td>Male</td>\n",
              "      <td>47</td>\n",
              "      <td>25000</td>\n",
              "      <td>1</td>\n",
              "    </tr>\n",
              "    <tr>\n",
              "      <th>2</th>\n",
              "      <td>15617482</td>\n",
              "      <td>Male</td>\n",
              "      <td>45</td>\n",
              "      <td>26000</td>\n",
              "      <td>1</td>\n",
              "    </tr>\n",
              "    <tr>\n",
              "      <th>3</th>\n",
              "      <td>15704583</td>\n",
              "      <td>Male</td>\n",
              "      <td>46</td>\n",
              "      <td>28000</td>\n",
              "      <td>1</td>\n",
              "    </tr>\n",
              "    <tr>\n",
              "      <th>4</th>\n",
              "      <td>15621083</td>\n",
              "      <td>Female</td>\n",
              "      <td>48</td>\n",
              "      <td>29000</td>\n",
              "      <td>1</td>\n",
              "    </tr>\n",
              "  </tbody>\n",
              "</table>\n",
              "</div>"
            ],
            "text/plain": [
              "    User ID  Gender  Age  EstimatedSalary  Purchased\n",
              "0  15694829  Female   32           150000          1\n",
              "1  15733883    Male   47            25000          1\n",
              "2  15617482    Male   45            26000          1\n",
              "3  15704583    Male   46            28000          1\n",
              "4  15621083  Female   48            29000          1"
            ]
          },
          "metadata": {
            "tags": []
          },
          "execution_count": 19
        }
      ]
    },
    {
      "cell_type": "code",
      "metadata": {
        "colab": {
          "base_uri": "https://localhost:8080/",
          "height": 195
        },
        "id": "OKaPSSvg8pAg",
        "outputId": "f8c4aef0-29e7-4761-cf0c-8fc7fda78928"
      },
      "source": [
        "df_test.head()"
      ],
      "execution_count": null,
      "outputs": [
        {
          "output_type": "execute_result",
          "data": {
            "text/html": [
              "<div>\n",
              "<style scoped>\n",
              "    .dataframe tbody tr th:only-of-type {\n",
              "        vertical-align: middle;\n",
              "    }\n",
              "\n",
              "    .dataframe tbody tr th {\n",
              "        vertical-align: top;\n",
              "    }\n",
              "\n",
              "    .dataframe thead th {\n",
              "        text-align: right;\n",
              "    }\n",
              "</style>\n",
              "<table border=\"1\" class=\"dataframe\">\n",
              "  <thead>\n",
              "    <tr style=\"text-align: right;\">\n",
              "      <th></th>\n",
              "      <th>User ID</th>\n",
              "      <th>Gender</th>\n",
              "      <th>Age</th>\n",
              "      <th>EstimatedSalary</th>\n",
              "    </tr>\n",
              "  </thead>\n",
              "  <tbody>\n",
              "    <tr>\n",
              "      <th>0</th>\n",
              "      <td>15609669</td>\n",
              "      <td>Female</td>\n",
              "      <td>59</td>\n",
              "      <td>88000</td>\n",
              "    </tr>\n",
              "    <tr>\n",
              "      <th>1</th>\n",
              "      <td>15685536</td>\n",
              "      <td>Male</td>\n",
              "      <td>35</td>\n",
              "      <td>61000</td>\n",
              "    </tr>\n",
              "    <tr>\n",
              "      <th>2</th>\n",
              "      <td>15750447</td>\n",
              "      <td>Male</td>\n",
              "      <td>37</td>\n",
              "      <td>70000</td>\n",
              "    </tr>\n",
              "    <tr>\n",
              "      <th>3</th>\n",
              "      <td>15663249</td>\n",
              "      <td>Female</td>\n",
              "      <td>52</td>\n",
              "      <td>21000</td>\n",
              "    </tr>\n",
              "    <tr>\n",
              "      <th>4</th>\n",
              "      <td>15638646</td>\n",
              "      <td>Male</td>\n",
              "      <td>48</td>\n",
              "      <td>141000</td>\n",
              "    </tr>\n",
              "  </tbody>\n",
              "</table>\n",
              "</div>"
            ],
            "text/plain": [
              "    User ID  Gender  Age  EstimatedSalary\n",
              "0  15609669  Female   59            88000\n",
              "1  15685536    Male   35            61000\n",
              "2  15750447    Male   37            70000\n",
              "3  15663249  Female   52            21000\n",
              "4  15638646    Male   48           141000"
            ]
          },
          "metadata": {
            "tags": []
          },
          "execution_count": 20
        }
      ]
    },
    {
      "cell_type": "code",
      "metadata": {
        "id": "F1OFzT-Z9unM"
      },
      "source": [
        "jarak = []\n",
        "for i in range(len(df_test)):\n",
        "  euclidean = {}\n",
        "  for j in range(len(df_train)):\n",
        "    euclidean[j] = math.sqrt( (df_test['Age'].loc[i] - df_train['Age'].loc[j])**2 + ((df_test['EstimatedSalary'].loc[i]/1000) - (df_train['EstimatedSalary'].loc[j]/1000))**2 )\n",
        "  jarak.append(euclidean)"
      ],
      "execution_count": null,
      "outputs": []
    },
    {
      "cell_type": "code",
      "metadata": {
        "id": "mkPU-8HwGlaW"
      },
      "source": [
        "k = 5\n",
        "file = open(\"result.txt\", \"w\")\n",
        "pertama = True\n",
        "for i in range(len(df_test)):\n",
        "  nol = 0\n",
        "  satu = 0\n",
        "  id = str(df_test['User ID'].loc[i])\n",
        "  terdekat = str(min(jarak[i], key=jarak[i].get))\n",
        "  for j in range(k):\n",
        "    purchase = df_train['Purchased'].loc[min(jarak[i], key=jarak[i].get)]\n",
        "    if purchase == 0:\n",
        "      nol += 1\n",
        "    else:\n",
        "      satu += 1\n",
        "    euclidean[min(jarak[i], key=jarak[i].get)] += 10000\n",
        "  for i in range(k):\n",
        "    euclidean[max(jarak[i], key=jarak[i].get)] -= 10000\n",
        "  if satu > nol:\n",
        "    if not pertama:\n",
        "      file.write(\", \\n\")\n",
        "    file.write(id)\n",
        "    if pertama:\n",
        "      pertama = False"
      ],
      "execution_count": null,
      "outputs": []
    }
  ]
}